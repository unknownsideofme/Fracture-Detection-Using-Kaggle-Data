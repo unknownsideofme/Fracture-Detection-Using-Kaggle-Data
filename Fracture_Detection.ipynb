{
  "metadata": {
    "kernelspec": {
      "language": "python",
      "display_name": "Python 3",
      "name": "python3"
    },
    "language_info": {
      "name": "python",
      "version": "3.10.13",
      "mimetype": "text/x-python",
      "codemirror_mode": {
        "name": "ipython",
        "version": 3
      },
      "pygments_lexer": "ipython3",
      "nbconvert_exporter": "python",
      "file_extension": ".py"
    },
    "kaggle": {
      "accelerator": "gpu",
      "dataSources": [
        {
          "sourceId": 8201044,
          "sourceType": "datasetVersion",
          "datasetId": 4854718
        }
      ],
      "dockerImageVersionId": 30733,
      "isInternetEnabled": true,
      "language": "python",
      "sourceType": "notebook",
      "isGpuEnabled": true
    },
    "colab": {
      "name": "Fracture Detection",
      "provenance": []
    }
  },
  "nbformat_minor": 0,
  "nbformat": 4,
  "cells": [
    {
      "source": [
        "\n",
        "# IMPORTANT: RUN THIS CELL IN ORDER TO IMPORT YOUR KAGGLE DATA SOURCES\n",
        "# TO THE CORRECT LOCATION (/kaggle/input) IN YOUR NOTEBOOK,\n",
        "# THEN FEEL FREE TO DELETE THIS CELL.\n",
        "# NOTE: THIS NOTEBOOK ENVIRONMENT DIFFERS FROM KAGGLE'S PYTHON\n",
        "# ENVIRONMENT SO THERE MAY BE MISSING LIBRARIES USED BY YOUR\n",
        "# NOTEBOOK.\n",
        "\n",
        "import os\n",
        "import sys\n",
        "from tempfile import NamedTemporaryFile\n",
        "from urllib.request import urlopen\n",
        "from urllib.parse import unquote, urlparse\n",
        "from urllib.error import HTTPError\n",
        "from zipfile import ZipFile\n",
        "import tarfile\n",
        "import shutil\n",
        "\n",
        "CHUNK_SIZE = 40960\n",
        "DATA_SOURCE_MAPPING = 'fracture-multi-region-x-ray-data:https%3A%2F%2Fstorage.googleapis.com%2Fkaggle-data-sets%2F4854718%2F8201044%2Fbundle%2Farchive.zip%3FX-Goog-Algorithm%3DGOOG4-RSA-SHA256%26X-Goog-Credential%3Dgcp-kaggle-com%2540kaggle-161607.iam.gserviceaccount.com%252F20240614%252Fauto%252Fstorage%252Fgoog4_request%26X-Goog-Date%3D20240614T060224Z%26X-Goog-Expires%3D259200%26X-Goog-SignedHeaders%3Dhost%26X-Goog-Signature%3D907d998cfdb52ee5be8a60848ca2d0fc5629366278a8d6e7dd6454220519d90df2a62e50b110e519fe8432d32054c5fc1bbda1879635c3a5e0bf7d02cc437f5179d94ce4a99d1e5c3735e8ec1d3bd67becd80028e8a72ee89c460eb63aae05d2d1ca4ff275a27485c96fec3f112221d0a3c965cec99a20ea22dbe43e69d35ed6eaf8c4d860d95e42b93ac9b3c322fd8b5e08851f6925875950a4d5ab3194196c274e84ec4ce6f98ad6d519f15cc23af74cf7c8fe3f34fdd767762fb0ea2c224783cc66026701bf4daca9fecc731da82c3eb95fb9a03837916131cd61f1a71e04d58d1ccc22bf86bb9ff29f9472707aabfabc53a32319791571b7f70521c00ac7'\n",
        "\n",
        "KAGGLE_INPUT_PATH='/kaggle/input'\n",
        "KAGGLE_WORKING_PATH='/kaggle/working'\n",
        "KAGGLE_SYMLINK='kaggle'\n",
        "\n",
        "!umount /kaggle/input/ 2> /dev/null\n",
        "shutil.rmtree('/kaggle/input', ignore_errors=True)\n",
        "os.makedirs(KAGGLE_INPUT_PATH, 0o777, exist_ok=True)\n",
        "os.makedirs(KAGGLE_WORKING_PATH, 0o777, exist_ok=True)\n",
        "\n",
        "try:\n",
        "  os.symlink(KAGGLE_INPUT_PATH, os.path.join(\"..\", 'input'), target_is_directory=True)\n",
        "except FileExistsError:\n",
        "  pass\n",
        "try:\n",
        "  os.symlink(KAGGLE_WORKING_PATH, os.path.join(\"..\", 'working'), target_is_directory=True)\n",
        "except FileExistsError:\n",
        "  pass\n",
        "\n",
        "for data_source_mapping in DATA_SOURCE_MAPPING.split(','):\n",
        "    directory, download_url_encoded = data_source_mapping.split(':')\n",
        "    download_url = unquote(download_url_encoded)\n",
        "    filename = urlparse(download_url).path\n",
        "    destination_path = os.path.join(KAGGLE_INPUT_PATH, directory)\n",
        "    try:\n",
        "        with urlopen(download_url) as fileres, NamedTemporaryFile() as tfile:\n",
        "            total_length = fileres.headers['content-length']\n",
        "            print(f'Downloading {directory}, {total_length} bytes compressed')\n",
        "            dl = 0\n",
        "            data = fileres.read(CHUNK_SIZE)\n",
        "            while len(data) > 0:\n",
        "                dl += len(data)\n",
        "                tfile.write(data)\n",
        "                done = int(50 * dl / int(total_length))\n",
        "                sys.stdout.write(f\"\\r[{'=' * done}{' ' * (50-done)}] {dl} bytes downloaded\")\n",
        "                sys.stdout.flush()\n",
        "                data = fileres.read(CHUNK_SIZE)\n",
        "            if filename.endswith('.zip'):\n",
        "              with ZipFile(tfile) as zfile:\n",
        "                zfile.extractall(destination_path)\n",
        "            else:\n",
        "              with tarfile.open(tfile.name) as tarfile:\n",
        "                tarfile.extractall(destination_path)\n",
        "            print(f'\\nDownloaded and uncompressed: {directory}')\n",
        "    except HTTPError as e:\n",
        "        print(f'Failed to load (likely expired) {download_url} to path {destination_path}')\n",
        "        continue\n",
        "    except OSError as e:\n",
        "        print(f'Failed to load {download_url} to path {destination_path}')\n",
        "        continue\n",
        "\n",
        "print('Data source import complete.')\n"
      ],
      "metadata": {
        "id": "oc79zoV3VyQb"
      },
      "cell_type": "code",
      "outputs": [],
      "execution_count": null
    },
    {
      "cell_type": "code",
      "source": [
        "# This Python 3 environment comes with many helpful analytics libraries installed\n",
        "# It is defined by the kaggle/python Docker image: https://github.com/kaggle/docker-python\n",
        "# For example, here's several helpful packages to load\n",
        "\n",
        "import numpy as np # linear algebra\n",
        "import pandas as pd # data processing, CSV file I/O (e.g. pd.read_csv)\n",
        "\n",
        "# Input data files are available in the read-only \"../input/\" directory\n",
        "# For example, running this (by clicking run or pressing Shift+Enter) will list all files under the input directory\n",
        "\n",
        "import os\n",
        "for dirname, _, filenames in os.walk('/kaggle/input'):\n",
        "    for filename in filenames:\n",
        "        print(os.path.join(dirname, filename))\n",
        "\n",
        "# You can write up to 20GB to the current directory (/kaggle/working/) that gets preserved as output when you create a version using \"Save & Run All\"\n",
        "# You can also write temporary files to /kaggle/temp/, but they won't be saved outside of the current session"
      ],
      "metadata": {
        "_uuid": "8f2839f25d086af736a60e9eeb907d3b93b6e0e5",
        "_cell_guid": "b1076dfc-b9ad-4769-8c92-a6c4dae69d19",
        "execution": {
          "iopub.status.busy": "2024-06-14T05:51:11.175467Z",
          "iopub.execute_input": "2024-06-14T05:51:11.175971Z",
          "iopub.status.idle": "2024-06-14T05:51:15.077231Z",
          "shell.execute_reply.started": "2024-06-14T05:51:11.175939Z",
          "shell.execute_reply": "2024-06-14T05:51:15.07629Z"
        },
        "trusted": true,
        "id": "x0SBC-XlVyQj"
      },
      "execution_count": null,
      "outputs": []
    },
    {
      "cell_type": "markdown",
      "source": [],
      "metadata": {
        "id": "D2EPkIotVyQl"
      }
    },
    {
      "cell_type": "code",
      "source": [
        "import tensorflow as tf\n",
        "from tensorflow import keras\n",
        "from tensorflow.keras.layers import Dense , Conv2D , MaxPooling2D , Flatten\n",
        "from tensorflow.keras.models import Sequential\n",
        "from tensorflow.keras.preprocessing.image import ImageDataGenerator\n",
        "from tensorflow.keras import layers , models\n",
        "\n",
        "from tensorflow.keras.utils import Sequence"
      ],
      "metadata": {
        "execution": {
          "iopub.status.busy": "2024-06-14T05:51:15.079379Z",
          "iopub.execute_input": "2024-06-14T05:51:15.079948Z",
          "iopub.status.idle": "2024-06-14T05:51:15.086379Z",
          "shell.execute_reply.started": "2024-06-14T05:51:15.079914Z",
          "shell.execute_reply": "2024-06-14T05:51:15.085422Z"
        },
        "trusted": true,
        "id": "g0BuI87XVyQn"
      },
      "execution_count": null,
      "outputs": []
    },
    {
      "cell_type": "code",
      "source": [
        "class CustomImageDataGenerator(Sequence):\n",
        "    def __init__(self, directory, target_size=(150, 150), batch_size=32, class_mode='binary'):\n",
        "        self.datagen = ImageDataGenerator(rescale=1./255)\n",
        "        self.generator = self.datagen.flow_from_directory(\n",
        "            directory,\n",
        "            target_size=target_size,\n",
        "            batch_size=batch_size,\n",
        "            class_mode=class_mode\n",
        "        )\n",
        "        self.length = len(self.generator)\n",
        "\n",
        "    def __len__(self):\n",
        "        return self.length\n",
        "\n",
        "    def __getitem__(self, index):\n",
        "        while True:\n",
        "            try:\n",
        "                batch = next(self.generator)\n",
        "                return batch\n",
        "            except OSError as e:\n",
        "                print(f\"Skipping corrupted image: {e}\")\n",
        "                continue\n",
        "\n",
        "\n",
        "\n",
        "train_generator = CustomImageDataGenerator('/kaggle/input/fracture-multi-region-x-ray-data/Bone_Fracture_Binary_Classification/Bone_Fracture_Binary_Classification/train')\n",
        "val_generator = CustomImageDataGenerator('/kaggle/input/fracture-multi-region-x-ray-data/Bone_Fracture_Binary_Classification/Bone_Fracture_Binary_Classification/test')\n",
        "test_generator = val_generator = CustomImageDataGenerator('/kaggle/input/fracture-multi-region-x-ray-data/Bone_Fracture_Binary_Classification/Bone_Fracture_Binary_Classification/val')"
      ],
      "metadata": {
        "execution": {
          "iopub.status.busy": "2024-06-14T05:51:15.087658Z",
          "iopub.execute_input": "2024-06-14T05:51:15.088263Z",
          "iopub.status.idle": "2024-06-14T05:51:15.468056Z",
          "shell.execute_reply.started": "2024-06-14T05:51:15.08823Z",
          "shell.execute_reply": "2024-06-14T05:51:15.467295Z"
        },
        "trusted": true,
        "id": "SLjgLJRjVyQo"
      },
      "execution_count": null,
      "outputs": []
    },
    {
      "cell_type": "code",
      "source": [
        "model = models.Sequential([\n",
        "    layers.Conv2D(32,(3,3) , activation = 'relu', input_shape = (150,150 ,3)),\n",
        "    layers.MaxPooling2D((2,2)),\n",
        "    layers.Conv2D(64 , (3,3), activation = 'relu' ),\n",
        "    layers.MaxPooling2D((2,2)),\n",
        "    layers.Flatten(),\n",
        "    layers.Dense(64 , activation = 'relu'),\n",
        "    layers.Dense(1  , activation ='sigmoid')\n",
        "\n",
        "\n",
        "])\n",
        "\n",
        "model.summary()"
      ],
      "metadata": {
        "execution": {
          "iopub.status.busy": "2024-06-14T05:54:24.006476Z",
          "iopub.execute_input": "2024-06-14T05:54:24.007087Z",
          "iopub.status.idle": "2024-06-14T05:54:24.069869Z",
          "shell.execute_reply.started": "2024-06-14T05:54:24.007054Z",
          "shell.execute_reply": "2024-06-14T05:54:24.068719Z"
        },
        "trusted": true,
        "id": "AYwxKi45VyQp"
      },
      "execution_count": null,
      "outputs": []
    },
    {
      "cell_type": "code",
      "source": [],
      "metadata": {
        "execution": {
          "iopub.status.busy": "2024-06-14T05:51:15.537457Z",
          "iopub.execute_input": "2024-06-14T05:51:15.537802Z",
          "iopub.status.idle": "2024-06-14T05:51:15.546472Z",
          "shell.execute_reply.started": "2024-06-14T05:51:15.537776Z",
          "shell.execute_reply": "2024-06-14T05:51:15.54542Z"
        },
        "trusted": true,
        "id": "ua2B-0W1VyQr"
      },
      "execution_count": null,
      "outputs": []
    },
    {
      "cell_type": "code",
      "source": [
        "model.compile(optimizer='adam',loss='binary_crossentropy',metrics=['accuracy'])\n",
        "history = model.fit(train_generator,epochs=10, validation_data = val_generator)"
      ],
      "metadata": {
        "execution": {
          "iopub.status.busy": "2024-06-14T05:55:12.837709Z",
          "iopub.execute_input": "2024-06-14T05:55:12.838417Z"
        },
        "trusted": true,
        "id": "O5ZZ0AnGVyQs"
      },
      "execution_count": null,
      "outputs": []
    },
    {
      "cell_type": "code",
      "source": [
        "model.evaluate(test_generator)"
      ],
      "metadata": {
        "trusted": true,
        "id": "h5UXN1PxVyQu"
      },
      "execution_count": null,
      "outputs": []
    }
  ]
}